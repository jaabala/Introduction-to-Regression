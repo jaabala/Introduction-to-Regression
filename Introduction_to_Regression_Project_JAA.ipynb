{
  "nbformat": 4,
  "nbformat_minor": 0,
  "metadata": {
    "colab": {
      "name": "Introduction to Regression Project JAA.ipynb",
      "provenance": [],
      "collapsed_sections": []
    },
    "kernelspec": {
      "name": "python3",
      "display_name": "Python 3"
    },
    "language_info": {
      "name": "python"
    }
  },
  "cells": [
    {
      "cell_type": "markdown",
      "metadata": {
        "id": "fToYR4XNqNFo"
      },
      "source": [
        ""
      ]
    },
    {
      "cell_type": "code",
      "metadata": {
        "id": "bhNH5Sq5nqr-"
      },
      "source": [
        "import pandas as pd\n",
        "from sklearn.metrics import mean_squared_error"
      ],
      "execution_count": 2,
      "outputs": []
    },
    {
      "cell_type": "markdown",
      "metadata": {
        "id": "dujQsONZq2Sv"
      },
      "source": [
        "Import the Data and read it "
      ]
    },
    {
      "cell_type": "code",
      "metadata": {
        "colab": {
          "base_uri": "https://localhost:8080/",
          "height": 669
        },
        "id": "KcJltVxXq4cv",
        "outputId": "1c52c91f-9265-4d11-9f25-d9c4f2a0f645"
      },
      "source": [
        "df=pd.read_csv('https://bit.ly/UsersBehaviourTelco')\n",
        "df.head(20)"
      ],
      "execution_count": 5,
      "outputs": [
        {
          "output_type": "execute_result",
          "data": {
            "text/html": [
              "<div>\n",
              "<style scoped>\n",
              "    .dataframe tbody tr th:only-of-type {\n",
              "        vertical-align: middle;\n",
              "    }\n",
              "\n",
              "    .dataframe tbody tr th {\n",
              "        vertical-align: top;\n",
              "    }\n",
              "\n",
              "    .dataframe thead th {\n",
              "        text-align: right;\n",
              "    }\n",
              "</style>\n",
              "<table border=\"1\" class=\"dataframe\">\n",
              "  <thead>\n",
              "    <tr style=\"text-align: right;\">\n",
              "      <th></th>\n",
              "      <th>calls</th>\n",
              "      <th>minutes</th>\n",
              "      <th>messages</th>\n",
              "      <th>mb_used</th>\n",
              "      <th>is_ultra</th>\n",
              "    </tr>\n",
              "  </thead>\n",
              "  <tbody>\n",
              "    <tr>\n",
              "      <th>0</th>\n",
              "      <td>40.0</td>\n",
              "      <td>311.90</td>\n",
              "      <td>83.0</td>\n",
              "      <td>19915.42</td>\n",
              "      <td>0</td>\n",
              "    </tr>\n",
              "    <tr>\n",
              "      <th>1</th>\n",
              "      <td>85.0</td>\n",
              "      <td>516.75</td>\n",
              "      <td>56.0</td>\n",
              "      <td>22696.96</td>\n",
              "      <td>0</td>\n",
              "    </tr>\n",
              "    <tr>\n",
              "      <th>2</th>\n",
              "      <td>77.0</td>\n",
              "      <td>467.66</td>\n",
              "      <td>86.0</td>\n",
              "      <td>21060.45</td>\n",
              "      <td>0</td>\n",
              "    </tr>\n",
              "    <tr>\n",
              "      <th>3</th>\n",
              "      <td>106.0</td>\n",
              "      <td>745.53</td>\n",
              "      <td>81.0</td>\n",
              "      <td>8437.39</td>\n",
              "      <td>1</td>\n",
              "    </tr>\n",
              "    <tr>\n",
              "      <th>4</th>\n",
              "      <td>66.0</td>\n",
              "      <td>418.74</td>\n",
              "      <td>1.0</td>\n",
              "      <td>14502.75</td>\n",
              "      <td>0</td>\n",
              "    </tr>\n",
              "    <tr>\n",
              "      <th>5</th>\n",
              "      <td>58.0</td>\n",
              "      <td>344.56</td>\n",
              "      <td>21.0</td>\n",
              "      <td>15823.37</td>\n",
              "      <td>0</td>\n",
              "    </tr>\n",
              "    <tr>\n",
              "      <th>6</th>\n",
              "      <td>57.0</td>\n",
              "      <td>431.64</td>\n",
              "      <td>20.0</td>\n",
              "      <td>3738.90</td>\n",
              "      <td>1</td>\n",
              "    </tr>\n",
              "    <tr>\n",
              "      <th>7</th>\n",
              "      <td>15.0</td>\n",
              "      <td>132.40</td>\n",
              "      <td>6.0</td>\n",
              "      <td>21911.60</td>\n",
              "      <td>0</td>\n",
              "    </tr>\n",
              "    <tr>\n",
              "      <th>8</th>\n",
              "      <td>7.0</td>\n",
              "      <td>43.39</td>\n",
              "      <td>3.0</td>\n",
              "      <td>2538.67</td>\n",
              "      <td>1</td>\n",
              "    </tr>\n",
              "    <tr>\n",
              "      <th>9</th>\n",
              "      <td>90.0</td>\n",
              "      <td>665.41</td>\n",
              "      <td>38.0</td>\n",
              "      <td>17358.61</td>\n",
              "      <td>0</td>\n",
              "    </tr>\n",
              "    <tr>\n",
              "      <th>10</th>\n",
              "      <td>82.0</td>\n",
              "      <td>560.51</td>\n",
              "      <td>20.0</td>\n",
              "      <td>9619.53</td>\n",
              "      <td>1</td>\n",
              "    </tr>\n",
              "    <tr>\n",
              "      <th>11</th>\n",
              "      <td>45.0</td>\n",
              "      <td>344.32</td>\n",
              "      <td>13.0</td>\n",
              "      <td>19898.81</td>\n",
              "      <td>0</td>\n",
              "    </tr>\n",
              "    <tr>\n",
              "      <th>12</th>\n",
              "      <td>51.0</td>\n",
              "      <td>437.13</td>\n",
              "      <td>61.0</td>\n",
              "      <td>21523.58</td>\n",
              "      <td>0</td>\n",
              "    </tr>\n",
              "    <tr>\n",
              "      <th>13</th>\n",
              "      <td>56.0</td>\n",
              "      <td>433.07</td>\n",
              "      <td>16.0</td>\n",
              "      <td>16702.36</td>\n",
              "      <td>0</td>\n",
              "    </tr>\n",
              "    <tr>\n",
              "      <th>14</th>\n",
              "      <td>108.0</td>\n",
              "      <td>587.90</td>\n",
              "      <td>0.0</td>\n",
              "      <td>14406.50</td>\n",
              "      <td>1</td>\n",
              "    </tr>\n",
              "    <tr>\n",
              "      <th>15</th>\n",
              "      <td>6.0</td>\n",
              "      <td>22.13</td>\n",
              "      <td>0.0</td>\n",
              "      <td>2710.09</td>\n",
              "      <td>0</td>\n",
              "    </tr>\n",
              "    <tr>\n",
              "      <th>16</th>\n",
              "      <td>2.0</td>\n",
              "      <td>18.73</td>\n",
              "      <td>0.0</td>\n",
              "      <td>588.89</td>\n",
              "      <td>0</td>\n",
              "    </tr>\n",
              "    <tr>\n",
              "      <th>17</th>\n",
              "      <td>26.0</td>\n",
              "      <td>163.62</td>\n",
              "      <td>4.0</td>\n",
              "      <td>16870.34</td>\n",
              "      <td>0</td>\n",
              "    </tr>\n",
              "    <tr>\n",
              "      <th>18</th>\n",
              "      <td>79.0</td>\n",
              "      <td>532.62</td>\n",
              "      <td>90.0</td>\n",
              "      <td>19908.31</td>\n",
              "      <td>0</td>\n",
              "    </tr>\n",
              "    <tr>\n",
              "      <th>19</th>\n",
              "      <td>49.0</td>\n",
              "      <td>341.67</td>\n",
              "      <td>81.0</td>\n",
              "      <td>11770.28</td>\n",
              "      <td>1</td>\n",
              "    </tr>\n",
              "  </tbody>\n",
              "</table>\n",
              "</div>"
            ],
            "text/plain": [
              "    calls  minutes  messages   mb_used  is_ultra\n",
              "0    40.0   311.90      83.0  19915.42         0\n",
              "1    85.0   516.75      56.0  22696.96         0\n",
              "2    77.0   467.66      86.0  21060.45         0\n",
              "3   106.0   745.53      81.0   8437.39         1\n",
              "4    66.0   418.74       1.0  14502.75         0\n",
              "5    58.0   344.56      21.0  15823.37         0\n",
              "6    57.0   431.64      20.0   3738.90         1\n",
              "7    15.0   132.40       6.0  21911.60         0\n",
              "8     7.0    43.39       3.0   2538.67         1\n",
              "9    90.0   665.41      38.0  17358.61         0\n",
              "10   82.0   560.51      20.0   9619.53         1\n",
              "11   45.0   344.32      13.0  19898.81         0\n",
              "12   51.0   437.13      61.0  21523.58         0\n",
              "13   56.0   433.07      16.0  16702.36         0\n",
              "14  108.0   587.90       0.0  14406.50         1\n",
              "15    6.0    22.13       0.0   2710.09         0\n",
              "16    2.0    18.73       0.0    588.89         0\n",
              "17   26.0   163.62       4.0  16870.34         0\n",
              "18   79.0   532.62      90.0  19908.31         0\n",
              "19   49.0   341.67      81.0  11770.28         1"
            ]
          },
          "metadata": {},
          "execution_count": 5
        }
      ]
    },
    {
      "cell_type": "code",
      "metadata": {
        "colab": {
          "base_uri": "https://localhost:8080/"
        },
        "id": "mfEImo2h0P3V",
        "outputId": "debe4927-2fc8-4162-eead-5ea0acb96ef9"
      },
      "source": [
        "df.shape"
      ],
      "execution_count": 4,
      "outputs": [
        {
          "output_type": "execute_result",
          "data": {
            "text/plain": [
              "(3214, 5)"
            ]
          },
          "metadata": {},
          "execution_count": 4
        }
      ]
    },
    {
      "cell_type": "markdown",
      "metadata": {
        "id": "YOUwSERIZaNX"
      },
      "source": [
        "Splitting the dataset into test, validation and training sets"
      ]
    },
    {
      "cell_type": "code",
      "metadata": {
        "id": "sy_HhAYBZex1"
      },
      "source": [
        "from sklearn.model_selection import train_test_split\n",
        "\n",
        "df_train, df_test = train_test_split(df, test_size=0.25, random_state=12345)\n",
        "\n",
        "features_train = df_train.drop(['is_ultra'], axis=1)\n",
        "target_train = df_train['is_ultra']\n",
        "features_test = df_test.drop(['is_ultra'], axis=1)\n",
        "target_test = df_test['is_ultra']"
      ],
      "execution_count": 6,
      "outputs": []
    },
    {
      "cell_type": "code",
      "metadata": {
        "colab": {
          "base_uri": "https://localhost:8080/"
        },
        "id": "v1_Y_x0XqL-W",
        "outputId": "fbdf2d4e-7f0f-4459-d6fb-2c3a0d75c1a1"
      },
      "source": [
        "features_test.shape"
      ],
      "execution_count": 55,
      "outputs": [
        {
          "output_type": "execute_result",
          "data": {
            "text/plain": [
              "(804, 4)"
            ]
          },
          "metadata": {},
          "execution_count": 55
        }
      ]
    },
    {
      "cell_type": "markdown",
      "metadata": {
        "id": "3THX2eDva3Hb"
      },
      "source": [
        "Now split the training dataset into training and validation data"
      ]
    },
    {
      "cell_type": "code",
      "metadata": {
        "id": "vZX0q7zxa2jV"
      },
      "source": [
        "df_train, df_valid = train_test_split(df_train, test_size=0.25, random_state=12345)\n",
        "\n",
        "features_train = df_train.drop(['is_ultra'], axis=1)\n",
        "target_train = df_train['is_ultra']\n",
        "features_valid = df_valid.drop(['is_ultra'], axis=1)\n",
        "target_valid = df_valid['is_ultra']"
      ],
      "execution_count": 7,
      "outputs": []
    },
    {
      "cell_type": "code",
      "metadata": {
        "colab": {
          "base_uri": "https://localhost:8080/"
        },
        "id": "PjLDQN0tqTpa",
        "outputId": "6f1ad68b-554d-40f7-ba60-8278d9d7783a"
      },
      "source": [
        "features_train.shape"
      ],
      "execution_count": 56,
      "outputs": [
        {
          "output_type": "execute_result",
          "data": {
            "text/plain": [
              "(1807, 4)"
            ]
          },
          "metadata": {},
          "execution_count": 56
        }
      ]
    },
    {
      "cell_type": "code",
      "metadata": {
        "colab": {
          "base_uri": "https://localhost:8080/"
        },
        "id": "NlhDN_vcqmwR",
        "outputId": "dc36d488-8a83-487e-f5d9-61f7cb058319"
      },
      "source": [
        "features_valid.shape\n",
        "\n",
        "# dataset split into 25% test data and 75% training data that was then further \n",
        "#split into 75% training data and 25% validating data "
      ],
      "execution_count": 57,
      "outputs": [
        {
          "output_type": "execute_result",
          "data": {
            "text/plain": [
              "(603, 4)"
            ]
          },
          "metadata": {},
          "execution_count": 57
        }
      ]
    },
    {
      "cell_type": "markdown",
      "metadata": {
        "id": "Dkh0JMdkbnvW"
      },
      "source": [
        "Train using different models to investigate the results and identify best model"
      ]
    },
    {
      "cell_type": "markdown",
      "metadata": {
        "id": "VSbGSw8nbwfQ"
      },
      "source": [
        "Model 1: Decision Tree Model"
      ]
    },
    {
      "cell_type": "code",
      "metadata": {
        "colab": {
          "base_uri": "https://localhost:8080/"
        },
        "id": "BhHrIpoqbsPo",
        "outputId": "914216dc-2e4d-478e-f72a-b3af609f9bf3"
      },
      "source": [
        "from sklearn.tree import DecisionTreeRegressor\n",
        "from sklearn.metrics import mean_squared_error\n",
        "\n",
        "features_train = df_train.drop(['is_ultra'], axis=1)\n",
        "target_train = df_train['is_ultra']\n",
        "\n",
        "features_valid = df_valid.drop(['is_ultra'], axis=1)\n",
        "target_valid = df_valid['is_ultra']\n",
        "\n",
        "#create a model\n",
        "tree_model = DecisionTreeRegressor(max_depth=265) #265 had the best RMSE value\n",
        "tree_model.fit(features_train,target_train) # train model on training set\n",
        "\n",
        "#get the test RMSE value using the validating dataset\n",
        "predictions = tree_model.predict(features_valid)\n",
        "answers = target_valid\n",
        "\n",
        "mse= mean_squared_error(answers,predictions)\n",
        "rmse = mse**0.5\n",
        "print('RMSE:',rmse)"
      ],
      "execution_count": 22,
      "outputs": [
        {
          "output_type": "stream",
          "name": "stdout",
          "text": [
            "RMSE: 0.5118820345031635\n"
          ]
        }
      ]
    },
    {
      "cell_type": "markdown",
      "metadata": {
        "id": "MWjELD40e2of"
      },
      "source": [
        "Decision Tree regressor appeared to have a RMSE of 0.511 at max_depth of 265\n",
        "when using validating data to test for the lowest RMSE. We will review Random Forest Regression next to try and get a lower RMSE"
      ]
    },
    {
      "cell_type": "markdown",
      "metadata": {
        "id": "g08qIE6-f0Vi"
      },
      "source": [
        "Model 2: Random Forest Regressor"
      ]
    },
    {
      "cell_type": "code",
      "metadata": {
        "colab": {
          "base_uri": "https://localhost:8080/"
        },
        "id": "Dy-Yl87Ofg8o",
        "outputId": "6cff0031-7c11-46a7-a711-87a90521ff20"
      },
      "source": [
        "from sklearn.ensemble import RandomForestRegressor\n",
        "from sklearn.metrics import mean_squared_error\n",
        "\n",
        "features_train = df_train.drop(['is_ultra'], axis=1)\n",
        "target_train = df_train['is_ultra']\n",
        "\n",
        "features_valid = df_valid.drop(['is_ultra'], axis=1)\n",
        "target_valid = df_valid['is_ultra']\n",
        "\n",
        "#create a model\n",
        "final_model = RandomForestRegressor(n_estimators=170, random_state=54321)# initialize constructor for model that had the best RMSE value\n",
        "final_model.fit(features_train,target_train) # train model on training set\n",
        "\n",
        "#get the test RMSE value using the validating dataset\n",
        "predictions = final_model.predict(features_valid)\n",
        "answers = target_valid\n",
        "\n",
        "mse= mean_squared_error(answers,predictions)\n",
        "rmse = mse**0.5\n",
        "print('RMSE:',rmse)"
      ],
      "execution_count": 41,
      "outputs": [
        {
          "output_type": "stream",
          "name": "stdout",
          "text": [
            "RMSE: 0.3729670497895618\n"
          ]
        }
      ]
    },
    {
      "cell_type": "markdown",
      "metadata": {
        "id": "6Nwa3WJGgjVd"
      },
      "source": [
        "Random Forst regressor appeared to have a lower RMSE of 0.372 at n_estimator between 150 and 200 when using validating data to test for the lowest RMSE. We will review Linear Regression next to try and get a lower RMSE"
      ]
    },
    {
      "cell_type": "markdown",
      "metadata": {
        "id": "spDFcm9Mg6e4"
      },
      "source": [
        "Model 3: Linear Regression"
      ]
    },
    {
      "cell_type": "code",
      "metadata": {
        "colab": {
          "base_uri": "https://localhost:8080/"
        },
        "id": "xwRFx3rIg5pl",
        "outputId": "b1de76b0-1772-4745-c21f-1491addd6cb5"
      },
      "source": [
        "from sklearn.linear_model import LinearRegression\n",
        "from sklearn.metrics import mean_squared_error\n",
        "\n",
        "features_train = df_train.drop(['is_ultra'], axis=1)\n",
        "target_train = df_train['is_ultra']\n",
        "\n",
        "features_valid = df_valid.drop(['is_ultra'], axis=1)\n",
        "target_valid = df_valid['is_ultra']\n",
        "\n",
        "#create a model\n",
        "linear_model = LinearRegression().fit(features_train,target_train)# initialize constructor for model that had the best RMSE value\n",
        "# train model on training set\n",
        "\n",
        "#get the test RMSE value using the validating dataset\n",
        "predictions = linear_model.predict(features_valid)\n",
        "answers = target_valid\n",
        "\n",
        "mse= mean_squared_error(answers,predictions)\n",
        "rmse = mse**0.5\n",
        "print('RMSE:',rmse)"
      ],
      "execution_count": 42,
      "outputs": [
        {
          "output_type": "stream",
          "name": "stdout",
          "text": [
            "RMSE: 0.4440532309301184\n"
          ]
        }
      ]
    },
    {
      "cell_type": "markdown",
      "metadata": {
        "id": "fOhebOQNh7mT"
      },
      "source": [
        "Linear regression appeared to have a middle RMSE of 0.44. showing that the random forest regressor model was the highest quality model, due to the lowest rmse of 0.327 after chnaging hyperparameters, as compared to linear regression and decision tree models. "
      ]
    },
    {
      "cell_type": "markdown",
      "metadata": {
        "id": "VBU73D7YiYDE"
      },
      "source": [
        "Next we will review accuracy of the models using an accuracy score and test data instead of validating data"
      ]
    },
    {
      "cell_type": "code",
      "metadata": {
        "colab": {
          "base_uri": "https://localhost:8080/"
        },
        "id": "b_pLKM5BiiFx",
        "outputId": "45c0cc59-afd6-4e1a-86e5-7331b98016c8"
      },
      "source": [
        "#recreate the random forest regressor model\n",
        "\n",
        "regressor_model = RandomForestRegressor(n_estimators=170, random_state=42)\n",
        "regressor_model.fit(features_train,target_train) # train model on training set\n",
        "\n",
        "#get the test accuracy using the testing dataset\n",
        "test_predictions = regressor_model.predict(features_test)\n",
        "\n",
        "#let's also evaluate the accuracy of the model using the test data set\n",
        "regressor_model.score(features_test, target_test)"
      ],
      "execution_count": 47,
      "outputs": [
        {
          "output_type": "execute_result",
          "data": {
            "text/plain": [
              "0.2237158487699309"
            ]
          },
          "metadata": {},
          "execution_count": 47
        }
      ]
    },
    {
      "cell_type": "code",
      "metadata": {
        "colab": {
          "base_uri": "https://localhost:8080/"
        },
        "id": "u_B1LGkdlxGt",
        "outputId": "8385eda2-1bc1-4ba1-bf60-2c48cc765ddd"
      },
      "source": [
        "# recreate and train linear regression model on training set\n",
        "linear_model = LinearRegression().fit(features_train,target_train)\n",
        "\n",
        "#get the test predictions using the test dataset\n",
        "linear_model.predict(features_test)\n",
        "\n",
        "#evaluate accuracy of model using test data\n",
        "linear_model.score(features_test, target_test)"
      ],
      "execution_count": 49,
      "outputs": [
        {
          "output_type": "execute_result",
          "data": {
            "text/plain": [
              "0.08567900827698738"
            ]
          },
          "metadata": {},
          "execution_count": 49
        }
      ]
    },
    {
      "cell_type": "code",
      "metadata": {
        "colab": {
          "base_uri": "https://localhost:8080/"
        },
        "id": "TFvIteRzmceh",
        "outputId": "d4c44f53-3f1e-4d46-f957-f34d72e91759"
      },
      "source": [
        "# recreate and train decision tree model on training set\n",
        "decision_model = DecisionTreeRegressor(max_depth=265, random_state = 42)\n",
        "\n",
        "# fit the regressor with X and Y data\n",
        "decision_model.fit(features_train, target_train)\n",
        "\n",
        "#we can test the model using test data sets\n",
        "decision_model.predict(features_test)\n",
        "\n",
        "#let's also evaluate the accuracy of the model using the test data set\n",
        "decision_model.score(features_test,target_test)"
      ],
      "execution_count": 52,
      "outputs": [
        {
          "output_type": "execute_result",
          "data": {
            "text/plain": [
              "-0.3095524126088012"
            ]
          },
          "metadata": {},
          "execution_count": 52
        }
      ]
    },
    {
      "cell_type": "markdown",
      "metadata": {
        "id": "gYlv8XR4nZZ1"
      },
      "source": [
        "When checking accuracy of each model, we find that random forest regressor has the highest accuracy at 22%, compared to 8% accuracy on linear regression and -30% on decision tree model. Meaning the model likely to predict customers new plan correctly would be random forest, however, 22% accuracy is still low as it amounts to less than a quarter. "
      ]
    },
    {
      "cell_type": "markdown",
      "metadata": {
        "id": "uZMyBC55n4o9"
      },
      "source": [
        "Finally, we sanity check our chosen model: Random Forest Regressor.\n"
      ]
    },
    {
      "cell_type": "code",
      "metadata": {
        "colab": {
          "base_uri": "https://localhost:8080/",
          "height": 469
        },
        "id": "H6k6CEb2n-XS",
        "outputId": "7f802658-4b70-483e-d831-d96eb3727fe6"
      },
      "source": [
        "model = RandomForestRegressor(n_estimators=170, random_state=42)\n",
        "model.fit(features_train, target_train)\n",
        "\n",
        "# to make value_counts() work,  we converted results to pd.Series\n",
        "predicted_test = pd.Series(model.predict(features_test))\n",
        "\n",
        "class_frequency = predicted_test.value_counts()\n",
        "print(class_frequency)\n",
        "\n",
        "class_frequency.plot(kind='hist' , x=class_frequency);"
      ],
      "execution_count": 54,
      "outputs": [
        {
          "output_type": "stream",
          "name": "stdout",
          "text": [
            "0.000000    26\n",
            "0.029412    25\n",
            "0.017647    24\n",
            "0.005882    20\n",
            "0.023529    18\n",
            "            ..\n",
            "0.494118     1\n",
            "0.441176     1\n",
            "0.594118     1\n",
            "0.835294     1\n",
            "0.364706     1\n",
            "Length: 152, dtype: int64\n"
          ]
        },
        {
          "output_type": "display_data",
          "data": {
            "image/png": "[encoded data removed]",
            "text/plain": [
              "<Figure size 432x288 with 1 Axes>"
            ]
          },
          "metadata": {
            "needs_background": "light"
          }
        }
      ]
    }
  ]
}